{
 "cells": [
  {
   "cell_type": "markdown",
   "id": "6f9fc44e-bb24-44eb-b035-b4ba2b9ffd27",
   "metadata": {},
   "source": [
    "# Import Test\n",
    "\n",
    "You can check that you have set up your environment correctly if you can run the cells in this notebook."
   ]
  },
  {
   "cell_type": "code",
   "execution_count": 1,
   "id": "0b92920e-d105-43ad-8904-84caaf014d82",
   "metadata": {},
   "outputs": [],
   "source": [
    "import pandas"
   ]
  },
  {
   "cell_type": "code",
   "execution_count": 2,
   "id": "106ff886-df03-4f03-9c42-ab445ff83560",
   "metadata": {},
   "outputs": [],
   "source": [
    "import iris"
   ]
  },
  {
   "cell_type": "code",
   "execution_count": 3,
   "id": "5076dc85-6115-4d60-a5d9-0c51259e4631",
   "metadata": {},
   "outputs": [],
   "source": [
    "import matplotlib"
   ]
  },
  {
   "cell_type": "code",
   "execution_count": 4,
   "id": "3d800429-955a-4547-885f-f89ac8fbc942",
   "metadata": {},
   "outputs": [],
   "source": [
    "import xarray"
   ]
  },
  {
   "cell_type": "code",
   "execution_count": 5,
   "id": "d563502a-e131-4548-b628-7b5d70ded7b1",
   "metadata": {},
   "outputs": [],
   "source": [
    "import fsspec"
   ]
  },
  {
   "cell_type": "code",
   "execution_count": 6,
   "id": "6a5db578-ce8f-4e1a-bfa7-f8f28728a414",
   "metadata": {},
   "outputs": [],
   "source": [
    "import s3fs\n",
    "import fsspec"
   ]
  },
  {
   "cell_type": "code",
   "execution_count": 7,
   "id": "8dc27e41-2bd6-43ec-9853-cbc3728551ee",
   "metadata": {},
   "outputs": [],
   "source": [
    "import bokeh"
   ]
  },
  {
   "cell_type": "code",
   "execution_count": 8,
   "id": "b14bd2c6-1612-4c29-9e0e-2443c1b97f45",
   "metadata": {},
   "outputs": [],
   "source": [
    "import intake"
   ]
  },
  {
   "cell_type": "code",
   "execution_count": 13,
   "id": "79517ab2-2e88-4f24-ab14-6b56efd2f9f5",
   "metadata": {},
   "outputs": [],
   "source": [
    "import dask.distributed"
   ]
  }
 ],
 "metadata": {
  "kernelspec": {
   "display_name": "Python (Pangeo Lectures)",
   "language": "python",
   "name": "pangeo-lectures-env"
  },
  "language_info": {
   "codemirror_mode": {
    "name": "ipython",
    "version": 3
   },
   "file_extension": ".py",
   "mimetype": "text/x-python",
   "name": "python",
   "nbconvert_exporter": "python",
   "pygments_lexer": "ipython3",
   "version": "3.8.13"
  }
 },
 "nbformat": 4,
 "nbformat_minor": 5
}
