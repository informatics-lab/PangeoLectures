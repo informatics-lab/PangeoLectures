{
 "cells": [
  {
   "cell_type": "markdown",
   "id": "indoor-retail",
   "metadata": {},
   "source": [
    "# Section 3: The Pangeo Approach - An Implementation Guide"
   ]
  },
  {
   "cell_type": "code",
   "execution_count": null,
   "id": "appreciated-crest",
   "metadata": {},
   "outputs": [],
   "source": []
  },
  {
   "cell_type": "markdown",
   "id": "supposed-billy",
   "metadata": {},
   "source": [
    "## Cloud computing"
   ]
  },
  {
   "cell_type": "code",
   "execution_count": null,
   "id": "taken-freeze",
   "metadata": {},
   "outputs": [],
   "source": []
  },
  {
   "cell_type": "markdown",
   "id": "quick-regulation",
   "metadata": {},
   "source": [
    "## Containers"
   ]
  },
  {
   "cell_type": "code",
   "execution_count": null,
   "id": "nasty-portrait",
   "metadata": {},
   "outputs": [],
   "source": []
  },
  {
   "cell_type": "markdown",
   "id": "narrative-stephen",
   "metadata": {},
   "source": [
    "## orchestration  - kubernetes"
   ]
  },
  {
   "cell_type": "code",
   "execution_count": null,
   "id": "collect-undergraduate",
   "metadata": {},
   "outputs": [],
   "source": []
  },
  {
   "cell_type": "markdown",
   "id": "floating-philadelphia",
   "metadata": {},
   "source": [
    "## distribution - Dask"
   ]
  },
  {
   "cell_type": "code",
   "execution_count": null,
   "id": "cleared-copyright",
   "metadata": {},
   "outputs": [],
   "source": []
  },
  {
   "cell_type": "code",
   "execution_count": null,
   "id": "overhead-species",
   "metadata": {},
   "outputs": [],
   "source": []
  },
  {
   "cell_type": "code",
   "execution_count": null,
   "id": "civic-winner",
   "metadata": {},
   "outputs": [],
   "source": []
  },
  {
   "cell_type": "markdown",
   "id": "quick-transaction",
   "metadata": {},
   "source": [
    "## Interactivity & portability - Jupyter Labs"
   ]
  },
  {
   "cell_type": "code",
   "execution_count": null,
   "id": "marine-continent",
   "metadata": {},
   "outputs": [],
   "source": []
  },
  {
   "cell_type": "markdown",
   "id": "olive-board",
   "metadata": {},
   "source": [
    "## Dashboarding"
   ]
  }
 ],
 "metadata": {
  "kernelspec": {
   "display_name": "Python 3",
   "language": "python",
   "name": "python3"
  },
  "language_info": {
   "codemirror_mode": {
    "name": "ipython",
    "version": 3
   },
   "file_extension": ".py",
   "mimetype": "text/x-python",
   "name": "python",
   "nbconvert_exporter": "python",
   "pygments_lexer": "ipython3",
   "version": "3.7.9"
  }
 },
 "nbformat": 4,
 "nbformat_minor": 5
}
