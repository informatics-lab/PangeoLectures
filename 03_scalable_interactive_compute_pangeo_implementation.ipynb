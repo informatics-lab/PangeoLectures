{
 "cells": [
  {
   "cell_type": "markdown",
   "id": "alive-burton",
   "metadata": {},
   "source": [
    "# Section 3: The Pangeo Approach - An Implementation Guide"
   ]
  },
  {
   "cell_type": "code",
   "execution_count": null,
   "id": "endangered-administration",
   "metadata": {},
   "outputs": [],
   "source": []
  },
  {
   "cell_type": "markdown",
   "id": "intensive-original",
   "metadata": {},
   "source": [
    "## Cloud computing"
   ]
  },
  {
   "cell_type": "markdown",
   "id": "northern-statistics",
   "metadata": {},
   "source": [
    "Info about cloud providers\n",
    "Description oif core services\n",
    "* compute instances\n",
    "* storage\n",
    "* ??"
   ]
  },
  {
   "cell_type": "markdown",
   "id": "derived-vault",
   "metadata": {},
   "source": [
    "## Containers"
   ]
  },
  {
   "cell_type": "markdown",
   "id": "spanish-fisher",
   "metadata": {},
   "source": [
    "introduction top docker\n",
    "how to build a container\n",
    "what goes into a container\n",
    "deploying a container"
   ]
  },
  {
   "cell_type": "markdown",
   "id": "corporate-wyoming",
   "metadata": {},
   "source": [
    "## orchestration  - kubernetes"
   ]
  },
  {
   "cell_type": "markdown",
   "id": "super-increase",
   "metadata": {},
   "source": [
    "Intro to kubernetes\n",
    "\n",
    "demo code: creating ac cluster"
   ]
  },
  {
   "cell_type": "markdown",
   "id": "phantom-marijuana",
   "metadata": {},
   "source": [
    "## distribution - Dask"
   ]
  },
  {
   "cell_type": "markdown",
   "id": "western-yugoslavia",
   "metadata": {},
   "source": [
    "introduction to dask\n",
    "\n",
    "discussion of task graph and data level parallelism\n",
    "\n"
   ]
  },
  {
   "cell_type": "code",
   "execution_count": 1,
   "id": "metallic-cornwall",
   "metadata": {},
   "outputs": [],
   "source": [
    "# Demo code: doing some analysis with a dask kubernetes cluster on a pangeo instance\n",
    "# we will actually need a pangeo instance to demo this"
   ]
  },
  {
   "cell_type": "code",
   "execution_count": null,
   "id": "southwest-calcium",
   "metadata": {},
   "outputs": [],
   "source": []
  },
  {
   "cell_type": "markdown",
   "id": "nutritional-motivation",
   "metadata": {},
   "source": [
    "## Interactivity & portability - Jupyter Labs"
   ]
  },
  {
   "cell_type": "markdown",
   "id": "abstract-dispute",
   "metadata": {},
   "source": [
    "Introduction to Jupyer labs\n",
    "\n",
    "(use material from pythobn guild)"
   ]
  },
  {
   "cell_type": "code",
   "execution_count": null,
   "id": "dried-shaft",
   "metadata": {},
   "outputs": [],
   "source": [
    "#demo running compute (again)\n",
    "#demo accessing data in notebook\n",
    "# demo"
   ]
  },
  {
   "cell_type": "markdown",
   "id": "protecting-singles",
   "metadata": {},
   "source": [
    "## Dashboarding\n",
    "\n",
    "What is a dashboard\n",
    "introduction to bokeh for interactive visualisation\n",
    "\n"
   ]
  },
  {
   "cell_type": "code",
   "execution_count": 2,
   "id": "fifth-shell",
   "metadata": {},
   "outputs": [],
   "source": [
    "# demo bokeh, holoview in a jupyter notebook"
   ]
  },
  {
   "cell_type": "code",
   "execution_count": null,
   "id": "empirical-submission",
   "metadata": {},
   "outputs": [],
   "source": []
  }
 ],
 "metadata": {
  "kernelspec": {
   "display_name": "Python 3",
   "language": "python",
   "name": "python3"
  },
  "language_info": {
   "codemirror_mode": {
    "name": "ipython",
    "version": 3
   },
   "file_extension": ".py",
   "mimetype": "text/x-python",
   "name": "python",
   "nbconvert_exporter": "python",
   "pygments_lexer": "ipython3",
   "version": "3.7.9"
  }
 },
 "nbformat": 4,
 "nbformat_minor": 5
}
