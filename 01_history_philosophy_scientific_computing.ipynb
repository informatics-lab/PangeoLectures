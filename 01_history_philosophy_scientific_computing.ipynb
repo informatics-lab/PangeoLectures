{
 "cells": [
  {
   "cell_type": "markdown",
   "id": "lasting-kenya",
   "metadata": {},
   "source": [
    "# Section 1: The History and Philosophy of Scientific Computing"
   ]
  },
  {
   "cell_type": "markdown",
   "id": "distinguished-alcohol",
   "metadata": {},
   "source": [
    "## The desktop model of computing"
   ]
  },
  {
   "cell_type": "code",
   "execution_count": null,
   "id": "recognized-voltage",
   "metadata": {},
   "outputs": [],
   "source": []
  },
  {
   "cell_type": "markdown",
   "id": "optimum-denial",
   "metadata": {},
   "source": [
    "## Scheduled Linux clusters\n",
    "\n",
    "A step in the right direction\n",
    "pro's and con's\n"
   ]
  },
  {
   "cell_type": "code",
   "execution_count": null,
   "id": "signed-cisco",
   "metadata": {},
   "outputs": [],
   "source": []
  },
  {
   "cell_type": "markdown",
   "id": "ultimate-import",
   "metadata": {},
   "source": [
    "## Use cases of Scientific Computing"
   ]
  },
  {
   "cell_type": "code",
   "execution_count": null,
   "id": "growing-japan",
   "metadata": {},
   "outputs": [],
   "source": []
  }
 ],
 "metadata": {
  "kernelspec": {
   "display_name": "Python 3",
   "language": "python",
   "name": "python3"
  },
  "language_info": {
   "codemirror_mode": {
    "name": "ipython",
    "version": 3
   },
   "file_extension": ".py",
   "mimetype": "text/x-python",
   "name": "python",
   "nbconvert_exporter": "python",
   "pygments_lexer": "ipython3",
   "version": "3.7.9"
  }
 },
 "nbformat": 4,
 "nbformat_minor": 5
}
