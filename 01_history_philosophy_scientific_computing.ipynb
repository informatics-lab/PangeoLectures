{
 "cells": [
  {
   "cell_type": "markdown",
   "id": "mathematical-rings",
   "metadata": {},
   "source": [
    "# Section 1: The History and Philosophy of Scientific Computing\n",
    "\n",
    "In this series of lectures, we will be considering not just what a Pangeo platform is and how to create it, but also the context in which the need for such a platform arose and why existing platforms and paradigms were (and are) not addressing the needs of scientific computing then and now. Section 1 will be focused on what user of scientific compouting systems really need and what systems they have been provided with so far that at best only partially adress their needs, and in a worst case distort the nature of the scientific enquiry so that fits inside thecnology available, rather than technology we create being driven by the needs of scientific enquiry. We will start by looking at a few typical use cases of scientific computing systems. We will then describe existing solutions and examine their shortcomings."
   ]
  },
  {
   "cell_type": "markdown",
   "id": "twelve-berry",
   "metadata": {},
   "source": [
    "## Key concepts and components of scientific system\n",
    "\n",
    "First lets define the necessary components of a scientific computing system.\n",
    "\n",
    "* Data\n",
    "* Computing resource\n",
    "* Software tools and libraries\n",
    "* Source code\n",
    "* Results communication\n"
   ]
  },
  {
   "cell_type": "markdown",
   "id": "material-species",
   "metadata": {},
   "source": [
    "## Use cases of Scientific Computing"
   ]
  },
  {
   "cell_type": "markdown",
   "id": "spatial-suffering",
   "metadata": {},
   "source": [
    "Talking in the abstract about a platform is difficult and note very helpful when what we want from our platform is to enable  and optimise the experiences for specific usesd. So lets think about some typical users of a scientific compute platform.\n",
    "\n",
    "These are based on use cases described in this blog post about Pangeo by Niall Robinson:\n",
    "https://medium.com/informatics-lab/what-do-we-want-from-a-dream-data-platform-as-a-service-c38558c25f29"
   ]
  },
  {
   "cell_type": "markdown",
   "id": "overall-closure",
   "metadata": {},
   "source": [
    "### Use case 1 - Scientific Analyst\n",
    "\n",
    "This is perhaps the most straightforward use case and perhaps the first one that comes to mind when wer think of scientific computing. This is the person that wants to produce some analysis using observations, simulations and models of some sort to use results in a paper or report.  This person may want to\n",
    "* find relevant data\n",
    "* run analysis at scale on large dataset\n",
    "* train stats/machine-learning model\n",
    "* visualise subsets or reductions of dataset\n"
   ]
  },
  {
   "cell_type": "markdown",
   "id": "corresponding-collins",
   "metadata": {},
   "source": [
    "### Use case 2 - Data Engineer\n",
    "\n",
    "This user produces data to be used by other users. They want to be able to make data available robustly, reliably and as soon as possible. They don't want data updates or downloads contrained by local usage patterns or compute constraints.\n",
    "\n",
    "* Produce a new version of a dataset\n",
    "* Create a new dataset which aggregates, subsets or transforms one or more other datasets.\n",
    "* make data available that is Analysis-ready Cloud Optimised (ARCO) and follows FAIR priciples (Findable, Accesible, Interoperable, Reproducible).\n"
   ]
  },
  {
   "cell_type": "markdown",
   "id": "another-diploma",
   "metadata": {},
   "source": [
    "### Use case 3 - Software Engineer\n",
    "\n",
    "This user develops the tools used by the other use cases. They need to be able to develop tools in the same environment in which they will be deployed and test the tools on realistic test cases using real world data.\n",
    "\n",
    "* frequently test new developments with a suite of test cases\n",
    "* test new user environments with existing software\n",
    "* optimise specific use cases from other users where performance is particularly important\n",
    "* debug problems experienced by other users, requiring running in the same environment as the user."
   ]
  },
  {
   "cell_type": "markdown",
   "id": "revised-pilot",
   "metadata": {},
   "source": [
    "### Use Case 4 - Application Developer\n",
    "\n",
    "This user is looking to present data and analysis to a customer, which may be specific people or organisations or the general public. Tasks they might engage in include:\n",
    "\n",
    "* create a dashboard for one or more datasets\n",
    "* create custom reports based on model and observational data"
   ]
  },
  {
   "cell_type": "markdown",
   "id": "sticky-theorem",
   "metadata": {},
   "source": [
    "### Uses not covered\n",
    "\n",
    "There are certain use cases that we're not discussing here. For example we've not talked about running large scale physics based models. This is a very demanding, specialised case within scientific computing for which specialised hardware in the form of a HPC is required. We are focusing on a more general purpose computing platform."
   ]
  },
  {
   "cell_type": "markdown",
   "id": "basic-doctor",
   "metadata": {},
   "source": [
    "## The desktop model of computing"
   ]
  },
  {
   "cell_type": "code",
   "execution_count": null,
   "id": "infinite-british",
   "metadata": {},
   "outputs": [],
   "source": []
  },
  {
   "cell_type": "markdown",
   "id": "severe-orbit",
   "metadata": {},
   "source": [
    "## Scheduled Linux clusters\n",
    "\n",
    "A step in the right direction\n",
    "pro's and con's\n"
   ]
  },
  {
   "cell_type": "code",
   "execution_count": null,
   "id": "powered-gateway",
   "metadata": {},
   "outputs": [],
   "source": []
  },
  {
   "cell_type": "code",
   "execution_count": null,
   "id": "critical-partnership",
   "metadata": {},
   "outputs": [],
   "source": []
  }
 ],
 "metadata": {
  "kernelspec": {
   "display_name": "Python 3",
   "language": "python",
   "name": "python3"
  },
  "language_info": {
   "codemirror_mode": {
    "name": "ipython",
    "version": 3
   },
   "file_extension": ".py",
   "mimetype": "text/x-python",
   "name": "python",
   "nbconvert_exporter": "python",
   "pygments_lexer": "ipython3",
   "version": "3.7.9"
  }
 },
 "nbformat": 4,
 "nbformat_minor": 5
}
