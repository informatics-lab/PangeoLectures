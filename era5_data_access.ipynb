{
 "cells": [
  {
   "cell_type": "markdown",
   "metadata": {},
   "source": [
    "# Accessing ERA5 and HadUK-Grid weather data\n",
    "\n",
    "Info about HadUK-Grid\n",
    "* Met Office Web page intro https://www.metoffice.gov.uk/research/climate/maps-and-data/data/haduk-grid/overview\n",
    "* List of components https://www.metoffice.gov.uk/research/climate/maps-and-data/data/haduk-grid/datasets\n",
    "* Data access through CEDA archive https://catalogue.ceda.ac.uk/uuid/4dc8450d889a491ebb20e724debe2dfb\n",
    "* Paper on dataset - https://rmets.onlinelibrary.wiley.com/doi/full/10.1002/gdj3.78\n",
    "\n",
    "Info about ECMWF ERA5 and acessing:\n",
    "* ECMWF web page https://www.ecmwf.int/en/forecasts/datasets/reanalysis-datasets/era5\n",
    "* Access through AWS https://registry.opendata.aws/ecmwf-era5/\n",
    "* Access through CEDA https://catalogue.ceda.ac.uk/uuid/7b64cf24f47f4b1aa499339c5a576be1 (available soon)\n",
    "* Notebook demoing access through AWS https://github.com/planet-os/notebooks/blob/master/aws/era5-s3-via-boto.ipynb"
   ]
  },
  {
   "cell_type": "code",
   "execution_count": 1,
   "metadata": {},
   "outputs": [],
   "source": [
    "# Initialize notebook environment.\n",
    "%matplotlib inline\n",
    "import boto3\n",
    "import botocore\n",
    "import datetime\n",
    "import matplotlib.pyplot as plt\n",
    "import os.path\n"
   ]
  },
  {
   "cell_type": "code",
   "execution_count": 2,
   "metadata": {},
   "outputs": [],
   "source": [
    "import xarray as xr"
   ]
  },
  {
   "cell_type": "code",
   "execution_count": 3,
   "metadata": {},
   "outputs": [],
   "source": [
    "import matplotlib.pyplot"
   ]
  },
  {
   "cell_type": "code",
   "execution_count": 4,
   "metadata": {},
   "outputs": [],
   "source": []
  },
  {
   "cell_type": "code",
   "execution_count": 5,
   "metadata": {},
   "outputs": [],
   "source": [
    "era5_bucket = 'era5-pds'\n",
    "\n",
    "# AWS access / secret keys required\n",
    "s3 = boto3.resource('s3')\n",
    "bucket = s3.Bucket(era5_bucket)\n",
    "\n",
    "# No AWS keys required\n",
    "client = boto3.client('s3', config=botocore.client.Config(signature_version=botocore.UNSIGNED))"
   ]
  },
  {
   "cell_type": "code",
   "execution_count": 6,
   "metadata": {},
   "outputs": [
    {
     "name": "stdout",
     "output_type": "stream",
     "text": [
      "1979/\n",
      "1980/\n",
      "1981/\n",
      "1982/\n",
      "1983/\n",
      "1984/\n",
      "1985/\n",
      "1986/\n",
      "1987/\n",
      "1988/\n",
      "1989/\n",
      "1990/\n",
      "1991/\n",
      "1992/\n",
      "1993/\n",
      "1994/\n",
      "1995/\n",
      "1996/\n",
      "1997/\n",
      "1998/\n",
      "1999/\n",
      "2000/\n",
      "2001/\n",
      "2002/\n",
      "2003/\n",
      "2004/\n",
      "2005/\n",
      "2006/\n",
      "2007/\n",
      "2008/\n",
      "2009/\n",
      "2010/\n",
      "2011/\n",
      "2012/\n",
      "2013/\n",
      "2014/\n",
      "2015/\n",
      "2016/\n",
      "2017/\n",
      "2018/\n",
      "2019/\n",
      "2020/\n",
      "2021/\n",
      "QA/\n",
      "zarr/\n"
     ]
    }
   ],
   "source": [
    "paginator = client.get_paginator('list_objects')\n",
    "result = paginator.paginate(Bucket=era5_bucket, Delimiter='/')\n",
    "for prefix in result.search('CommonPrefixes'):\n",
    "    print(prefix.get('Prefix'))"
   ]
  },
  {
   "cell_type": "code",
   "execution_count": 7,
   "metadata": {},
   "outputs": [
    {
     "name": "stdout",
     "output_type": "stream",
     "text": [
      "There are 19 objects available for January, 2019\n",
      "--\n",
      "2019/01/data/air_pressure_at_mean_sea_level.nc\n",
      "2019/01/data/air_temperature_at_2_metres.nc\n",
      "2019/01/data/air_temperature_at_2_metres_1hour_Maximum.nc\n",
      "2019/01/data/air_temperature_at_2_metres_1hour_Minimum.nc\n",
      "2019/01/data/dew_point_temperature_at_2_metres.nc\n",
      "2019/01/data/eastward_wind_at_100_metres.nc\n",
      "2019/01/data/eastward_wind_at_10_metres.nc\n",
      "2019/01/data/integral_wrt_time_of_surface_direct_downwelling_shortwave_flux_in_air_1hour_Accumulation.nc\n",
      "2019/01/data/lwe_thickness_of_surface_snow_amount.nc\n",
      "2019/01/data/northward_wind_at_100_metres.nc\n",
      "2019/01/data/northward_wind_at_10_metres.nc\n",
      "2019/01/data/precipitation_amount_1hour_Accumulation.nc\n",
      "2019/01/data/sea_surface_temperature.nc\n",
      "2019/01/data/sea_surface_wave_from_direction.nc\n",
      "2019/01/data/sea_surface_wave_mean_period.nc\n",
      "2019/01/data/significant_height_of_wind_and_swell_waves.nc\n",
      "2019/01/data/snow_density.nc\n",
      "2019/01/data/surface_air_pressure.nc\n",
      "2019/01/main.nc\n"
     ]
    }
   ],
   "source": [
    "keys = []\n",
    "date = datetime.date(2019,1,1) # update to desired date\n",
    "prefix = date.strftime('%Y/%m/')\n",
    "\n",
    "response = client.list_objects_v2(Bucket=era5_bucket, Prefix=prefix)\n",
    "response_meta = response.get('ResponseMetadata')\n",
    "\n",
    "if response_meta.get('HTTPStatusCode') == 200:\n",
    "    contents = response.get('Contents')\n",
    "    if contents == None:\n",
    "        print(\"No objects are available for %s\" % date.strftime('%B, %Y'))\n",
    "    else:\n",
    "        for obj in contents:\n",
    "            keys.append(obj.get('Key'))\n",
    "        print(\"There are %s objects available for %s\\n--\" % (len(keys), date.strftime('%B, %Y')))\n",
    "        for k in keys:\n",
    "            print(k)\n",
    "else:\n",
    "    print(\"There was an error with your request.\")"
   ]
  },
  {
   "cell_type": "code",
   "execution_count": 8,
   "metadata": {},
   "outputs": [],
   "source": [
    "import s3fs"
   ]
  },
  {
   "cell_type": "code",
   "execution_count": 9,
   "metadata": {},
   "outputs": [],
   "source": [
    "fs1 = s3fs.S3FileSystem()"
   ]
  },
  {
   "cell_type": "code",
   "execution_count": 10,
   "metadata": {},
   "outputs": [],
   "source": [
    "path1 = f's3://{era5_bucket}/2019/01/data/air_temperature_at_2_metres.nc'"
   ]
  },
  {
   "cell_type": "code",
   "execution_count": 11,
   "metadata": {},
   "outputs": [],
   "source": [
    "fileObj1 = fs1.open(path1)"
   ]
  },
  {
   "cell_type": "code",
   "execution_count": 12,
   "metadata": {},
   "outputs": [],
   "source": [
    "summary_ds = xr.open_dataset(fileObj1, engine='h5netcdf')"
   ]
  },
  {
   "cell_type": "code",
   "execution_count": 13,
   "metadata": {},
   "outputs": [],
   "source": [
    "temp_hourly_cube = summary_ds.air_temperature_at_2_metres.to_iris()"
   ]
  },
  {
   "cell_type": "code",
   "execution_count": 17,
   "metadata": {},
   "outputs": [
    {
     "data": {
      "text/plain": [
       "masked_array(data=[282.1624755859375, 282.375, 282.3500061035156,\n",
       "                   282.5625, 282.26251220703125, 282.1000061035156, 282.0,\n",
       "                   281.5, 280.9250183105469, 280.4875183105469,\n",
       "                   281.3375244140625, 282.48748779296875, 283.125,\n",
       "                   283.4375, 283.2874755859375, 282.75, 282.6499938964844,\n",
       "                   282.07501220703125, 281.98748779296875,\n",
       "                   282.32501220703125, 281.8125, 280.9125061035156,\n",
       "                   279.8999938964844, 278.8375244140625,\n",
       "                   278.3500061035156, 277.6499938964844,\n",
       "                   277.67498779296875, 276.9750061035156,\n",
       "                   276.20001220703125, 275.3500061035156],\n",
       "             mask=[False, False, False, False, False, False, False, False,\n",
       "                   False, False, False, False, False, False, False, False,\n",
       "                   False, False, False, False, False, False, False, False,\n",
       "                   False, False, False, False, False, False],\n",
       "       fill_value=1e+20,\n",
       "            dtype=float32)"
      ]
     },
     "execution_count": 17,
     "metadata": {},
     "output_type": "execute_result"
    }
   ],
   "source": [
    "temp_hourly_cube[:30].interpolate([('latitude', 51.0),('longitude', -3.1)],iris.analysis.Linear()).data"
   ]
  },
  {
   "cell_type": "code",
   "execution_count": null,
   "metadata": {},
   "outputs": [],
   "source": []
  },
  {
   "cell_type": "code",
   "execution_count": null,
   "metadata": {},
   "outputs": [],
   "source": [
    "uk_temp_hourly = temp_hourly_cube.intersection(latitude=(49,60), longitude=(-7, 3))"
   ]
  },
  {
   "cell_type": "code",
   "execution_count": null,
   "metadata": {},
   "outputs": [],
   "source": [
    "fig1 = matplotlib.pyplot.figure(figsize=(8,16))\n",
    "ax1 = fig1.add_subplot(1,1,1,projection=cartopy.crs.PlateCarree())\n",
    "iris.quickplot.contourf(uk_temp_hourly[0,:,:],axes=ax1)\n",
    "ax1.coastlines()"
   ]
  },
  {
   "cell_type": "code",
   "execution_count": null,
   "metadata": {},
   "outputs": [],
   "source": [
    "5%2"
   ]
  }
 ],
 "metadata": {
  "kernelspec": {
   "display_name": "lightfoot_dev",
   "language": "python",
   "name": "lightfoot_dev"
  },
  "language_info": {
   "codemirror_mode": {
    "name": "ipython",
    "version": 3
   },
   "file_extension": ".py",
   "mimetype": "text/x-python",
   "name": "python",
   "nbconvert_exporter": "python",
   "pygments_lexer": "ipython3",
   "version": "3.8.8"
  }
 },
 "nbformat": 4,
 "nbformat_minor": 4
}
