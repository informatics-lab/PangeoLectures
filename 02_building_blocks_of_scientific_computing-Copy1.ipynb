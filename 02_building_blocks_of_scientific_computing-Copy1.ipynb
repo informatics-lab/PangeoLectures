{
 "cells": [
  {
   "cell_type": "markdown",
   "id": "approved-theorem",
   "metadata": {},
   "source": [
    "# Section 2: The building blocks of a Scientific Computing Platform\n"
   ]
  },
  {
   "cell_type": "code",
   "execution_count": null,
   "id": "awful-concern",
   "metadata": {},
   "outputs": [],
   "source": []
  },
  {
   "cell_type": "markdown",
   "id": "precious-alert",
   "metadata": {},
   "source": [
    "## Goal 1 - Scalable, interactice compute"
   ]
  },
  {
   "cell_type": "code",
   "execution_count": null,
   "id": "written-bristol",
   "metadata": {},
   "outputs": [],
   "source": []
  },
  {
   "cell_type": "markdown",
   "id": "substantial-choir",
   "metadata": {},
   "source": [
    "## Goal 2 - Reproducible Research"
   ]
  },
  {
   "cell_type": "code",
   "execution_count": null,
   "id": "grave-thomas",
   "metadata": {},
   "outputs": [],
   "source": []
  },
  {
   "cell_type": "markdown",
   "id": "compact-frame",
   "metadata": {},
   "source": [
    "## Goal 3 - Shareable research"
   ]
  },
  {
   "cell_type": "code",
   "execution_count": null,
   "id": "devoted-attachment",
   "metadata": {},
   "outputs": [],
   "source": []
  },
  {
   "cell_type": "markdown",
   "id": "antique-watts",
   "metadata": {},
   "source": [
    "## Goal 4 - Cost effective compute"
   ]
  },
  {
   "cell_type": "code",
   "execution_count": null,
   "id": "genetic-europe",
   "metadata": {},
   "outputs": [],
   "source": []
  },
  {
   "cell_type": "markdown",
   "id": "outstanding-bosnia",
   "metadata": {},
   "source": [
    "## Goal 5 - Separation of concerns\n",
    "Allowing researchers to focus on the goals of their research project and spend minimal time worrying about the underlying enabling infrastructure."
   ]
  },
  {
   "cell_type": "code",
   "execution_count": null,
   "id": "occasional-assistant",
   "metadata": {},
   "outputs": [],
   "source": []
  },
  {
   "cell_type": "code",
   "execution_count": null,
   "id": "executed-birthday",
   "metadata": {},
   "outputs": [],
   "source": []
  },
  {
   "cell_type": "code",
   "execution_count": null,
   "id": "minimal-cambodia",
   "metadata": {},
   "outputs": [],
   "source": []
  }
 ],
 "metadata": {
  "kernelspec": {
   "display_name": "Python 3",
   "language": "python",
   "name": "python3"
  },
  "language_info": {
   "codemirror_mode": {
    "name": "ipython",
    "version": 3
   },
   "file_extension": ".py",
   "mimetype": "text/x-python",
   "name": "python",
   "nbconvert_exporter": "python",
   "pygments_lexer": "ipython3",
   "version": "3.7.9"
  }
 },
 "nbformat": 4,
 "nbformat_minor": 5
}
