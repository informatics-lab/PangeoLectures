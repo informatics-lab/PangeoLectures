{
 "cells": [
  {
   "cell_type": "markdown",
   "id": "artistic-challenge",
   "metadata": {},
   "source": [
    "# Section 4: Data - A modern approach "
   ]
  },
  {
   "cell_type": "code",
   "execution_count": null,
   "id": "actual-tiger",
   "metadata": {},
   "outputs": [],
   "source": []
  },
  {
   "cell_type": "markdown",
   "id": "weekly-speed",
   "metadata": {},
   "source": [
    "## Analysis Ready Data\n",
    "\n",
    "introduction to what analysis ready means"
   ]
  },
  {
   "cell_type": "code",
   "execution_count": null,
   "id": "clinical-cornell",
   "metadata": {},
   "outputs": [],
   "source": []
  },
  {
   "cell_type": "markdown",
   "id": "collective-railway",
   "metadata": {},
   "source": [
    "### Metadata\n",
    "what is metadata and why is it important"
   ]
  },
  {
   "cell_type": "code",
   "execution_count": null,
   "id": "packed-addition",
   "metadata": {},
   "outputs": [],
   "source": []
  },
  {
   "cell_type": "markdown",
   "id": "quality-shield",
   "metadata": {},
   "source": [
    "## Cloud optimised Data"
   ]
  },
  {
   "cell_type": "code",
   "execution_count": null,
   "id": "express-edwards",
   "metadata": {},
   "outputs": [],
   "source": []
  },
  {
   "cell_type": "markdown",
   "id": "hourly-march",
   "metadata": {},
   "source": [
    "### Lazy Loading"
   ]
  },
  {
   "cell_type": "code",
   "execution_count": null,
   "id": "bizarre-nebraska",
   "metadata": {},
   "outputs": [],
   "source": [
    "# demo lazy loading of data in iris"
   ]
  },
  {
   "cell_type": "markdown",
   "id": "sudden-standing",
   "metadata": {},
   "source": [
    "## Data types and tools\n",
    "\n",
    "Introduce gridded and tabular data"
   ]
  },
  {
   "cell_type": "code",
   "execution_count": null,
   "id": "breeding-mission",
   "metadata": {},
   "outputs": [],
   "source": []
  },
  {
   "cell_type": "markdown",
   "id": "fifty-norway",
   "metadata": {},
   "source": [
    "### Tabular Data - Pandas"
   ]
  },
  {
   "cell_type": "code",
   "execution_count": null,
   "id": "little-madrid",
   "metadata": {},
   "outputs": [],
   "source": [
    "# demo loading accessing and manipulating tabular data in pandas\n",
    "# dataset XBT"
   ]
  },
  {
   "cell_type": "markdown",
   "id": "dominant-bulgarian",
   "metadata": {},
   "source": [
    "## Gridded data -iris and xarray"
   ]
  },
  {
   "cell_type": "code",
   "execution_count": null,
   "id": "blocked-arrest",
   "metadata": {},
   "outputs": [],
   "source": [
    "# demo loading accessing and manipulating gridded data in iris/xarray (we can borrow this material from introduct)\n",
    "\n",
    "# datasets - era5\n",
    "# datasets - UKV\n",
    "# dataset CMIP6"
   ]
  },
  {
   "cell_type": "markdown",
   "id": "measured-thumbnail",
   "metadata": {},
   "source": [
    "## Sharing data - FAIR principles\n",
    "\n",
    "Findable\n",
    "Acessible\n",
    "Interoperable\n",
    "Reproducible"
   ]
  },
  {
   "cell_type": "code",
   "execution_count": null,
   "id": "amber-breeding",
   "metadata": {},
   "outputs": [],
   "source": []
  },
  {
   "cell_type": "markdown",
   "id": "derived-swaziland",
   "metadata": {},
   "source": [
    "### Data Catalogues\n",
    "\n",
    "What is a catalogue\n",
    "what are the advantages?"
   ]
  },
  {
   "cell_type": "code",
   "execution_count": null,
   "id": "pursuant-albany",
   "metadata": {},
   "outputs": [],
   "source": [
    "# demo loading an intake catalogue"
   ]
  },
  {
   "cell_type": "code",
   "execution_count": 1,
   "id": "pursuant-invasion",
   "metadata": {},
   "outputs": [],
   "source": [
    "# demo creating an intake catalogue"
   ]
  },
  {
   "cell_type": "code",
   "execution_count": null,
   "id": "according-brush",
   "metadata": {},
   "outputs": [],
   "source": []
  }
 ],
 "metadata": {
  "kernelspec": {
   "display_name": "Python 3",
   "language": "python",
   "name": "python3"
  },
  "language_info": {
   "codemirror_mode": {
    "name": "ipython",
    "version": 3
   },
   "file_extension": ".py",
   "mimetype": "text/x-python",
   "name": "python",
   "nbconvert_exporter": "python",
   "pygments_lexer": "ipython3",
   "version": "3.7.9"
  }
 },
 "nbformat": 4,
 "nbformat_minor": 5
}
