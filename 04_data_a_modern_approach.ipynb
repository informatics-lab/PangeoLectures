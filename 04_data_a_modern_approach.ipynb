{
 "cells": [
  {
   "cell_type": "markdown",
   "id": "simplified-wings",
   "metadata": {},
   "source": [
    "# Section 4: Data - A modern approach "
   ]
  },
  {
   "cell_type": "code",
   "execution_count": null,
   "id": "secondary-specification",
   "metadata": {},
   "outputs": [],
   "source": []
  },
  {
   "cell_type": "markdown",
   "id": "nervous-trinity",
   "metadata": {},
   "source": [
    "## Analysis Ready Data"
   ]
  },
  {
   "cell_type": "code",
   "execution_count": null,
   "id": "vocal-guatemala",
   "metadata": {},
   "outputs": [],
   "source": []
  },
  {
   "cell_type": "markdown",
   "id": "individual-gospel",
   "metadata": {},
   "source": [
    "### Metadata"
   ]
  },
  {
   "cell_type": "code",
   "execution_count": null,
   "id": "future-freeze",
   "metadata": {},
   "outputs": [],
   "source": []
  },
  {
   "cell_type": "markdown",
   "id": "rotary-scanning",
   "metadata": {},
   "source": [
    "## Cloud optimised Data"
   ]
  },
  {
   "cell_type": "code",
   "execution_count": null,
   "id": "black-billy",
   "metadata": {},
   "outputs": [],
   "source": []
  },
  {
   "cell_type": "markdown",
   "id": "orange-killing",
   "metadata": {},
   "source": [
    "### Lazy Loading"
   ]
  },
  {
   "cell_type": "code",
   "execution_count": null,
   "id": "acting-respect",
   "metadata": {},
   "outputs": [],
   "source": []
  },
  {
   "cell_type": "markdown",
   "id": "greek-voluntary",
   "metadata": {},
   "source": [
    "## Data types and tools"
   ]
  },
  {
   "cell_type": "code",
   "execution_count": null,
   "id": "dressed-instruction",
   "metadata": {},
   "outputs": [],
   "source": []
  },
  {
   "cell_type": "markdown",
   "id": "geological-consistency",
   "metadata": {},
   "source": [
    "### Tabular Data - Pandas"
   ]
  },
  {
   "cell_type": "code",
   "execution_count": null,
   "id": "fifteen-allowance",
   "metadata": {},
   "outputs": [],
   "source": []
  },
  {
   "cell_type": "markdown",
   "id": "lyric-turner",
   "metadata": {},
   "source": [
    "## Gridded data -iris and xarray"
   ]
  },
  {
   "cell_type": "code",
   "execution_count": null,
   "id": "approximate-interference",
   "metadata": {},
   "outputs": [],
   "source": []
  },
  {
   "cell_type": "markdown",
   "id": "packed-heading",
   "metadata": {},
   "source": [
    "## Sharing data - FAIR principles"
   ]
  },
  {
   "cell_type": "code",
   "execution_count": null,
   "id": "solved-rental",
   "metadata": {},
   "outputs": [],
   "source": []
  },
  {
   "cell_type": "markdown",
   "id": "genuine-sandwich",
   "metadata": {},
   "source": [
    "### Data Catalogues"
   ]
  },
  {
   "cell_type": "code",
   "execution_count": null,
   "id": "organized-specific",
   "metadata": {},
   "outputs": [],
   "source": []
  }
 ],
 "metadata": {
  "kernelspec": {
   "display_name": "Python 3",
   "language": "python",
   "name": "python3"
  },
  "language_info": {
   "codemirror_mode": {
    "name": "ipython",
    "version": 3
   },
   "file_extension": ".py",
   "mimetype": "text/x-python",
   "name": "python",
   "nbconvert_exporter": "python",
   "pygments_lexer": "ipython3",
   "version": "3.7.9"
  }
 },
 "nbformat": 4,
 "nbformat_minor": 5
}
