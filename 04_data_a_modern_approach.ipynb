{
 "cells": [
  {
   "cell_type": "markdown",
   "id": "fallen-lewis",
   "metadata": {},
   "source": [
    "# Section 4: Data - A modern approach \n",
    "![Pangeo Logo](images/pangeo_logo_small.png)\n",
    "\n",
    "[Pangeo Website](https://pangeo.io/)"
   ]
  },
  {
   "cell_type": "markdown",
   "id": "severe-tamil",
   "metadata": {},
   "source": []
  },
  {
   "cell_type": "markdown",
   "id": "exterior-cursor",
   "metadata": {},
   "source": [
    "## A Historical Digression - Reading ancient texts\n",
    "\n",
    "![Codex Sinaticus](https://www.bl.uk/britishlibrary/~/media/bl/global/dst%20discovering%20sacred%20texts/collection%20items/codexsinaiticus-add_ms_43725_f244v.jpg?w=608&h=342&hash=11BF1F0A1DE8CAC524DE050F912D7AD7)\n",
    "\n",
    "Original manuscripts had no spacs, paragraphs\n",
    "\n",
    "Meaning through whitespace not invented by Python language!!\n",
    "\n",
    "Simply reading out what was written was difficult requiring certain knowledge and skil\n",
    "\n",
    "Talk about Lecktors (readers)\n",
    "\n",
    "We want people reading a document to require minimal skills in the act of reading and focus on skills around the content they are reading.\n",
    "\n",
    "Similarly, people reading our data today. we want to require minimal skills in the technical details of reading data to focus on the skills around the understanding the content of the dataset."
   ]
  },
  {
   "cell_type": "markdown",
   "id": "deadly-staff",
   "metadata": {},
   "source": [
    "https://pangeo.io/data.html"
   ]
  },
  {
   "cell_type": "code",
   "execution_count": null,
   "id": "welcome-holly",
   "metadata": {},
   "outputs": [],
   "source": []
  },
  {
   "cell_type": "markdown",
   "id": "unknown-onion",
   "metadata": {},
   "source": [
    "## Analysis Ready Data\n"
   ]
  },
  {
   "cell_type": "markdown",
   "id": "toxic-devil",
   "metadata": {},
   "source": [
    "* Metadata rich. Users should be provided an object with metadata which can be used\n",
    "to define operations over (e.g: mean over ensemble realization).\n",
    "* Analysis can be readily achieved without knowledge of the underlying storage of the\n",
    "data (e.g: file paths, chunking etc – note efficiency considerations)\n",
    "* Users should not have to manually interact with the storage system, this should be\n",
    "handled automatically as necessary. Ideally the storage should be abstracted away\n",
    "from the user.\n",
    "* Simple analysis (e.g: descriptive statistics, subsetting) should be possible with a\n",
    "minimum number of additional lines of code, and on the basis of metadata. (e.g:\n",
    "mean(dataset, axis=’time’) or similar)\n",
    "* Custom analytics should be possible by creating functions which take in an analysis\n",
    "ready dataset and return another.\n"
   ]
  },
  {
   "cell_type": "markdown",
   "id": "neutral-steps",
   "metadata": {},
   "source": [
    "### Metadata\n",
    "what is metadata and why is it important"
   ]
  },
  {
   "cell_type": "code",
   "execution_count": null,
   "id": "crude-crime",
   "metadata": {},
   "outputs": [],
   "source": []
  },
  {
   "cell_type": "markdown",
   "id": "comparable-buddy",
   "metadata": {},
   "source": [
    "## Cloud optimised Data"
   ]
  },
  {
   "cell_type": "markdown",
   "id": "applied-emphasis",
   "metadata": {},
   "source": [
    "* Metadata knowledge should be known with low latency, and without pulling from a\n",
    "large number of individual objects (low cost operation). It should be consolidated in\n",
    "some way.\n",
    "* Subsets (or chunks) of data should be retrievable either using a whole object fetch,\n",
    "or easily computable byte-range requests, in order to leverage large scale parallelism\n",
    "and avoid unnecessary network transfers.\n",
    "* Considerations of concept of “eventual consistency” – if an object in cloud storage is\n",
    "updated from one node and another node later reads the same object, the state\n",
    "change may not have propagated.\n",
    "* For performance, processing on ARCO data should ideally be possible to construct\n",
    "lazily, so that no processing is carried out until explicitly requested by the user. Any\n",
    "computation should also be processed close to the data, in order to avoid\n",
    "unnecessary network traffic.\n"
   ]
  },
  {
   "cell_type": "markdown",
   "id": "sustained-bottom",
   "metadata": {},
   "source": [
    "## Challenges\n",
    "* Cloud requirements may be different from HPC requirements. What may work well\n",
    "on one platform may not work well on another.\n",
    "* Unlikely to be one complete solution/concrete implementation – instead need to\n",
    "agree principles such as use of open standards and interoperability.\n",
    "* Solution should be language agnostic as much as possible. Informatics Lab largely\n",
    "Python focussed, R and scala are also important in the data science community, and\n",
    "Fortran/C++ in use across the Met Office. (Possibly also Java in Technology?)\n",
    "* Even within one language (e.g: Python), there might be many possible “analysis\n",
    "ready” objects owing to different libraries. For numeric arrays, numpy is standard, for\n",
    "tabular data, pandas datasets (dask wrapping both), for ND arrays, xarray datasets\n",
    "are an emerging standard, but MO prefers to use Iris for domain specific functionality.\n",
    "Interoperability between Iris/xarray not brilliant.\n",
    "* Users need training – order of operations can be important and have significant cost\n",
    "implications. e.g: in xarray/dask, compute -> subset vs subset -> compute! Especially\n",
    "worrying if using auto-scaling groups.\n",
    "* Data should ideally be discoverable. Consider how to “publish” datasets, and make\n",
    "them findable – which metadata are important? It should be possible for all users to\n",
    "publish data to prevent duplication of effort/multiple redundant copies (metadata\n",
    "might need to include e.g: responsible owner, chunking strategy, data location\n",
    "(MASS vs cloud)). (consider e.g: catalogues and search)\n",
    "\n",
    "The broader “common data platform”:\n",
    "* Should be platform agnostic (as much as possible), with seamless working across\n",
    "on-prem and cloud solutions (including federated/multi cloud). NB: noting data\n",
    "locality/data gravity issues.\n",
    "* For performance and cost reasons, computation is often tied to data due to data\n",
    "gravity – makes multi-cloud challenging. Especially if it is desirable to abstract\n",
    "away/hide this information from end users (cost implications"
   ]
  },
  {
   "cell_type": "markdown",
   "id": "comparative-baseline",
   "metadata": {},
   "source": [
    "### Lazy Loading"
   ]
  },
  {
   "cell_type": "code",
   "execution_count": null,
   "id": "external-happiness",
   "metadata": {},
   "outputs": [],
   "source": [
    "# demo lazy loading of data in iris"
   ]
  },
  {
   "cell_type": "markdown",
   "id": "collaborative-prospect",
   "metadata": {},
   "source": [
    "## Data types and tools\n",
    "\n",
    "Introduce gridded and tabular data"
   ]
  },
  {
   "cell_type": "code",
   "execution_count": null,
   "id": "animal-provincial",
   "metadata": {},
   "outputs": [],
   "source": []
  },
  {
   "cell_type": "markdown",
   "id": "grave-collectible",
   "metadata": {},
   "source": [
    "### Tabular Data - Pandas"
   ]
  },
  {
   "cell_type": "code",
   "execution_count": null,
   "id": "invisible-adolescent",
   "metadata": {},
   "outputs": [],
   "source": [
    "# demo loading accessing and manipulating tabular data in pandas\n",
    "# dataset XBT"
   ]
  },
  {
   "cell_type": "markdown",
   "id": "homeless-xerox",
   "metadata": {},
   "source": [
    "## Gridded data -iris and xarray"
   ]
  },
  {
   "cell_type": "code",
   "execution_count": null,
   "id": "greek-ideal",
   "metadata": {},
   "outputs": [],
   "source": [
    "# demo loading accessing and manipulating gridded data in iris/xarray (we can borrow this material from introduct)\n",
    "\n",
    "# datasets - era5\n",
    "# datasets - UKV\n",
    "# dataset CMIP6"
   ]
  },
  {
   "cell_type": "markdown",
   "id": "according-delight",
   "metadata": {},
   "source": [
    "## Sharing data - FAIR principles\n",
    "\n",
    "Findable\n",
    "Acessible\n",
    "Interoperable\n",
    "Reproducible"
   ]
  },
  {
   "cell_type": "code",
   "execution_count": null,
   "id": "educational-conservative",
   "metadata": {},
   "outputs": [],
   "source": []
  },
  {
   "cell_type": "markdown",
   "id": "configured-circulation",
   "metadata": {},
   "source": [
    "### Data Catalogues\n",
    "\n",
    "What is a catalogue\n",
    "what are the advantages?"
   ]
  },
  {
   "cell_type": "markdown",
   "id": "liable-alias",
   "metadata": {},
   "source": [
    "Example cataslogues\n",
    "* AWS earth - https://aws.amazon.com/earth/ \n",
    "* pangeo catalog - https://catalog.pangeo.io/\n",
    "* STAC - https://stacspec.org/"
   ]
  },
  {
   "cell_type": "code",
   "execution_count": null,
   "id": "mobile-freight",
   "metadata": {},
   "outputs": [],
   "source": []
  },
  {
   "cell_type": "code",
   "execution_count": null,
   "id": "heavy-geology",
   "metadata": {},
   "outputs": [],
   "source": [
    "# demo loading an intake catalogue"
   ]
  },
  {
   "cell_type": "code",
   "execution_count": 1,
   "id": "abstract-forwarding",
   "metadata": {},
   "outputs": [],
   "source": [
    "# demo creating an intake catalogue"
   ]
  },
  {
   "cell_type": "code",
   "execution_count": null,
   "id": "acknowledged-dryer",
   "metadata": {},
   "outputs": [],
   "source": []
  }
 ],
 "metadata": {
  "kernelspec": {
   "display_name": "Python 3",
   "language": "python",
   "name": "python3"
  },
  "language_info": {
   "codemirror_mode": {
    "name": "ipython",
    "version": 3
   },
   "file_extension": ".py",
   "mimetype": "text/x-python",
   "name": "python",
   "nbconvert_exporter": "python",
   "pygments_lexer": "ipython3",
   "version": "3.7.9"
  }
 },
 "nbformat": 4,
 "nbformat_minor": 5
}
