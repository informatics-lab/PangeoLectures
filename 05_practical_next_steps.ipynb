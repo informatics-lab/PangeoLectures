{
 "cells": [
  {
   "cell_type": "markdown",
   "id": "distant-supervisor",
   "metadata": {},
   "source": [
    "# Welcome to the Pangeo Lifestyle! \n",
    "\n",
    "![Pangeo Logo ](images/pangeo_logo_small.png)\n",
    "\n",
    "[Pangeo Website](https://pangeo.io/)\n",
    "\n",
    "Hopefully you have been convinced while making your way through these notebooks of the importancer of scientific compute platform that is fit for purpose, combine a rich, interactive user experience with capapcity to operate at the scales required by the size of the datasets used in today's cutting edge research. The philosophy of how to approach the challenges of big data is as important as the stack of software that forms a particular implementation of the Pangeo model of a computing platform. This is an evolving fields and as tools mature and new technologies become more widely available e.g. FPGA and ASICs in the short-term future, genetic and quantam computing in the long-term, the way that this model is implemented will continue to evolve, but the principles behind wat a good system looks like will remain.\n",
    "\n",
    "The next step is to try some of this out for yourself, ideally on an actual research problem you are considering, to see how this approach to data and computing can help your research. Below are some links to help you get started with a Pangeo model of computing."
   ]
  },
  {
   "cell_type": "markdown",
   "id": "motivated-walnut",
   "metadata": {},
   "source": [
    "### Getting Started - A Platform\n",
    "\n",
    "* Jupyter lab on a local machine or VM - https://jupyter.org/\n",
    "* Notebooks on JASMIN - https://help.jasmin.ac.uk/article/4851-jasmin-notebook-service\n",
    "* Commerical Cloud\n",
    " * Azure ML - https://azure.microsoft.com/en-gb/services/machine-learning/\n",
    " * AWS Sagemaker - https://aws.amazon.com/sagemaker/\n",
    "\n"
   ]
  },
  {
   "cell_type": "markdown",
   "id": "english-apache",
   "metadata": {},
   "source": [
    "### Getting Started - Example Notebooks\n",
    "\n",
    "* Pangeo Gallery - http://gallery.pangeo.io/\n",
    "* Iris gallery - https://scitools-iris.readthedocs.io/en/latest/generated/gallery/index.html\n",
    "* Kaggle competitions - https://www.kaggle.com/\n",
    "\n"
   ]
  },
  {
   "cell_type": "markdown",
   "id": "confused-robert",
   "metadata": {},
   "source": [
    "### Getting Started - Example Data\n",
    "\n",
    "* STAC - https://stacspec.org/\n",
    "* Pangeo Data - https://mldata.pangeo.io/\n",
    "* AWS Earth - https://aws.amazon.com/earth/\n",
    "* AI for Earth - https://www.microsoft.com/en-us/ai/ai-for-earth-tech-resources\n"
   ]
  },
  {
   "cell_type": "markdown",
   "id": "thick-europe",
   "metadata": {},
   "source": [
    "### More Talks\n",
    "\n",
    "* Pangeo on Youtube - https://www.youtube.com/playlist?list=PLuQQBBQFfpgpF3eGnlgXNqWmXhND3Vzg_\n"
   ]
  },
  {
   "cell_type": "markdown",
   "id": "yellow-thriller",
   "metadata": {},
   "source": [
    "### Get Involved - How to contribute\n",
    "\n",
    "Pangeo is primarily a community of people trying to solve common problems around scientific computing and big data. A good way to learn is to get involved in community efforts.\n",
    "\n",
    "* Community Homepage - https://pangeo.io/\n",
    "* Discourse for Discussion - https://discourse.pangeo.io/\n",
    "\n"
   ]
  }
 ],
 "metadata": {
  "kernelspec": {
   "display_name": "Python 3",
   "language": "python",
   "name": "python3"
  },
  "language_info": {
   "codemirror_mode": {
    "name": "ipython",
    "version": 3
   },
   "file_extension": ".py",
   "mimetype": "text/x-python",
   "name": "python",
   "nbconvert_exporter": "python",
   "pygments_lexer": "ipython3",
   "version": "3.7.9"
  }
 },
 "nbformat": 4,
 "nbformat_minor": 5
}
