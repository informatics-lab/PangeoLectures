{
 "cells": [
  {
   "cell_type": "markdown",
   "id": "standing-reception",
   "metadata": {},
   "source": [
    "# Welcome to the Pangeo Lifestyle! \n",
    "\n",
    "![Pangeo Logo ](images/pangeo_logo_small.png)\n",
    "\n",
    "[Pangeo Website](https://pangeo.io/)\n",
    "\n",
    "Hopefully you have been convinced while making your way through these notebooks of the importancer of scientific compute platform that is fit for purpose, combine a rich, interactive user experience with capapcity to operate at the scales required by the size of the datasets used in today's cutting edge research. The philosophy of how to approach the challenges of big data is as important as the stack of software that forms a particular implementation of the Pangeo model of a computing platform. This is an evolving fields and as tools mature and new technologies become more widely available e.g. FPGA and ASICs in the short-term future, genetic and quantam computing in the long-term, the way that this model is implemented will continue to evolve, but the principles behind wat a good system looks like will remain.\n",
    "\n",
    "The next step is to try some of this out for yourself, ideally on an actual research problem you are considering, to see how this approach to data and computing can help your research. Below are some links to help you get started with a Pangeo model of computing."
   ]
  },
  {
   "cell_type": "markdown",
   "id": "increased-vegetable",
   "metadata": {},
   "source": [
    "### Getting Started - A Platform\n",
    "\n",
    "* Jupyter lab on a local machine or VM - https://jupyter.org/\n",
    "* Notebooks on JASMIN - https://help.jasmin.ac.uk/article/4851-jasmin-notebook-service\n",
    "* Commerical Cloud\n",
    " * Azure ML - https://azure.microsoft.com/en-gb/services/machine-learning/\n",
    " * AWS Sagemaker - https://aws.amazon.com/sagemaker/\n",
    "\n"
   ]
  },
  {
   "cell_type": "markdown",
   "id": "committed-double",
   "metadata": {},
   "source": [
    "### Getting Started - Example Notebooks\n",
    "\n",
    "* Pangeo Gallery - http://gallery.pangeo.io/\n",
    "* Iris gallery - https://scitools-iris.readthedocs.io/en/latest/generated/gallery/index.html\n",
    "* Kaggle competitions - https://www.kaggle.com/\n",
    "\n"
   ]
  },
  {
   "cell_type": "markdown",
   "id": "collectible-cancellation",
   "metadata": {},
   "source": [
    "### Getting Started - Example Data\n",
    "\n",
    "* STAC - https://stacspec.org/\n",
    "* Pangeo Data - https://mldata.pangeo.io/\n",
    "* AWS Earth - https://aws.amazon.com/earth/\n",
    "* AI for Earth - https://www.microsoft.com/en-us/ai/ai-for-earth-tech-resources\n"
   ]
  },
  {
   "cell_type": "markdown",
   "id": "express-spoke",
   "metadata": {},
   "source": [
    "### More Talks\n",
    "\n",
    "* Pangeo on Youtube - https://www.youtube.com/playlist?list=PLuQQBBQFfpgpF3eGnlgXNqWmXhND3Vzg_\n"
   ]
  },
  {
   "cell_type": "markdown",
   "id": "unique-facing",
   "metadata": {},
   "source": [
    "### Get Involved - How to contribute\n",
    "\n",
    "Pangeo is primarily a community of people trying to solve common problems around scientific computing and big data. A good way to learn is to get involved in community efforts.\n",
    "\n",
    "* Community Homepage - https://pangeo.io/\n",
    "* Discourse for Discussion - https://discourse.pangeo.io/\n",
    "\n"
   ]
  },
  {
   "cell_type": "markdown",
   "id": "f13ca5c7-8a1a-44fd-8bc0-1b8183228153",
   "metadata": {},
   "source": [
    "### Acknowledgement\n",
    "Creation of this material was funded by the [Joint Centre for Excellence in Environmental Intelligence](https://jceei.org).\n",
    "![JCEEI logo](https://github.com/informatics-lab/PangeoLectures/raw/main/LOGO_aligned-jceei-logo-dark-long.png)"
   ]
  },
  {
   "cell_type": "code",
   "execution_count": null,
   "id": "fa092b4a-70c9-477f-87c9-50cdf0eb4c49",
   "metadata": {},
   "outputs": [],
   "source": []
  }
 ],
 "metadata": {
  "kernelspec": {
   "display_name": "Python (Pangeo Lectures)",
   "language": "python",
   "name": "pangeo-lectures-env"
  },
  "language_info": {
   "codemirror_mode": {
    "name": "ipython",
    "version": 3
   },
   "file_extension": ".py",
   "mimetype": "text/x-python",
   "name": "python",
   "nbconvert_exporter": "python",
   "pygments_lexer": "ipython3",
   "version": "3.8.13"
  }
 },
 "nbformat": 4,
 "nbformat_minor": 5
}
